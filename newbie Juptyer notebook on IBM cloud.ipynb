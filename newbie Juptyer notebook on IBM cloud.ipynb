{
    "cells": [
        {
            "cell_type": "markdown",
            "metadata": {
                "collapsed": true
            },
            "source": "# Practice"
        },
        {
            "cell_type": "markdown",
            "metadata": {},
            "source": "![alt text][logo]\n\n[logo]: https://jupyter.org/assets/nav_logo.svg \"Jupyter!\""
        },
        {
            "cell_type": "code",
            "execution_count": 12,
            "metadata": {},
            "outputs": [
                {
                    "name": "stdout",
                    "output_type": "stream",
                    "text": "5 * 1 = 5\n5 * 2 = 10\n5 * 3 = 15\n5 * 4 = 20\n5 * 5 = 25\n5 * 6 = 30\n5 * 7 = 35\n5 * 8 = 40\n5 * 9 = 45\n"
                }
            ],
            "source": "for i in range(5,6):\n    for j in range(1,10):\n        print(i,\"*\",j,\"=\",i*j)"
        },
        {
            "cell_type": "markdown",
            "metadata": {},
            "source": "### Successfully "
        }
    ],
    "metadata": {
        "kernelspec": {
            "display_name": "Python 3.6",
            "language": "python",
            "name": "python3"
        },
        "language_info": {
            "codemirror_mode": {
                "name": "ipython",
                "version": 3
            },
            "file_extension": ".py",
            "mimetype": "text/x-python",
            "name": "python",
            "nbconvert_exporter": "python",
            "pygments_lexer": "ipython3",
            "version": "3.6.9"
        }
    },
    "nbformat": 4,
    "nbformat_minor": 1
}